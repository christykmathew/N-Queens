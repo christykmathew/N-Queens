{
  "nbformat": 4,
  "nbformat_minor": 0,
  "metadata": {
    "colab": {
      "name": "8-Queens",
      "provenance": []
    },
    "kernelspec": {
      "name": "python3",
      "display_name": "Python 3"
    }
  },
  "cells": [
    {
      "cell_type": "code",
      "metadata": {
        "id": "hcL0gtC0dQQA",
        "colab_type": "code",
        "colab": {}
      },
      "source": [
        "def board_draw(list):\n",
        "    for rows in list:\n",
        "        print(\" \".join(rows))"
      ],
      "execution_count": 29,
      "outputs": []
    },
    {
      "cell_type": "code",
      "metadata": {
        "id": "RDhIQYqWlvHn",
        "colab_type": "code",
        "colab": {}
      },
      "source": [
        "def check(board, i, j):\n",
        "    flag = 0    \n",
        "    for k in range(0, i):\n",
        "        if(board[k][j] == 'Q'):\n",
        "            return 1\n",
        "    \n",
        "    for k in range(1, i+1):\n",
        "        if(j+k<n and board[i-k][j+k] == 'Q'):\n",
        "            return 1\n",
        "        \n",
        "\n",
        "    for k in range(1, i+1):\n",
        "        if(j-k>=0 and board[i-k][j-k] == 'Q'):\n",
        "            return 1\n",
        "    return 0"
      ],
      "execution_count": 30,
      "outputs": []
    },
    {
      "cell_type": "code",
      "metadata": {
        "id": "xeMje6Doj0PB",
        "colab_type": "code",
        "colab": {}
      },
      "source": [
        "def initialise(n):\n",
        "    board_input = []\n",
        "    for i in range(0, n):\n",
        "        temp =[]\n",
        "        for j in range(0,n):\n",
        "            temp.append('-')\n",
        "        board_input.append(temp)\n",
        "    return board_input"
      ],
      "execution_count": 31,
      "outputs": []
    },
    {
      "cell_type": "code",
      "metadata": {
        "id": "6TJR9GJ5vR3A",
        "colab_type": "code",
        "colab": {
          "base_uri": "https://localhost:8080/",
          "height": 272
        },
        "outputId": "1336c39c-0516-419f-e50c-820584459861"
      },
      "source": [
        "def n_queen(board,row,n):\n",
        "    flag = 1\n",
        "    if ('Q' in board[row]):\n",
        "        index = board[row].index('Q')\n",
        "        board[row][index] = '-'\n",
        "        for i in range(index+1, n):\n",
        "            flag = check(board,row,i)\n",
        "            if (flag == 0):\n",
        "                board[row][i] = 'Q'\n",
        "                n_queen(board, row+1, n)\n",
        "                return\n",
        "        if (flag == 1):\n",
        "            n_queen(board, row-1, n) \n",
        "            return\n",
        "    for i in range(0,n):\n",
        "        flag = check(board,row,i)\n",
        "        if (flag == 0):\n",
        "            board[row][i] = 'Q'\n",
        "            if(row == n-1):\n",
        "                head = str(n) + '-Queen Solution is:\\n'\n",
        "                print(head)\n",
        "                board_draw(board)\n",
        "                return\n",
        "            n_queen(board, row+1, n)\n",
        "            break \n",
        "    if (flag == 1):\n",
        "        n_queen(board, row-1, n)\n",
        "        \n",
        "    \n",
        "board_input = []\n",
        "n=int(input(\"Enter value of n: \"))\n",
        "while(n<=3 or n>13):\n",
        "    print(\"\\nN should be greater than 3 and less than 14\")\n",
        "    n=int(input(\"\\nEnter value of n: \"))\n",
        "board_input = initialise(n)\n",
        "n_queen(board_input, 0, n)"
      ],
      "execution_count": 32,
      "outputs": [
        {
          "output_type": "stream",
          "text": [
            "Enter value of n: 12\n",
            "12-Queen Solution is:\n",
            "\n",
            "Q - - - - - - - - - - -\n",
            "- - Q - - - - - - - - -\n",
            "- - - - Q - - - - - - -\n",
            "- - - - - - - Q - - - -\n",
            "- - - - - - - - - Q - -\n",
            "- - - - - - - - - - - Q\n",
            "- - - - - Q - - - - - -\n",
            "- - - - - - - - - - Q -\n",
            "- Q - - - - - - - - - -\n",
            "- - - - - - Q - - - - -\n",
            "- - - - - - - - Q - - -\n",
            "- - - Q - - - - - - - -\n"
          ],
          "name": "stdout"
        }
      ]
    }
  ]
}