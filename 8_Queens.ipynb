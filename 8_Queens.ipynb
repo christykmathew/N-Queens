{
  "nbformat": 4,
  "nbformat_minor": 0,
  "metadata": {
    "colab": {
      "name": "8-Queens",
      "provenance": []
    },
    "kernelspec": {
      "name": "python3",
      "display_name": "Python 3"
    }
  },
  "cells": [
    {
      "cell_type": "code",
      "metadata": {
        "id": "hcL0gtC0dQQA",
        "colab_type": "code",
        "colab": {}
      },
      "source": [
        "def board_draw(list):\n",
        "    for rows in list:\n",
        "        print(\" \".join(rows))"
      ],
      "execution_count": null,
      "outputs": []
    },
    {
      "cell_type": "code",
      "metadata": {
        "id": "RDhIQYqWlvHn",
        "colab_type": "code",
        "colab": {}
      },
      "source": [
        "def check(board, i, j):\n",
        "    flag = 0    \n",
        "    for k in range(0, i):\n",
        "        if(board[k][j] == 'Q'):\n",
        "            return 1\n",
        "    \n",
        "    for k in range(1, i+1):\n",
        "        if(j+k<n and board[i-k][j+k] == 'Q'):\n",
        "            return 1\n",
        "        \n",
        "\n",
        "    for k in range(1, i+1):\n",
        "        if(j-k>=0 and board[i-k][j-k] == 'Q'):\n",
        "            return 1\n",
        "    return 0"
      ],
      "execution_count": null,
      "outputs": []
    },
    {
      "cell_type": "code",
      "metadata": {
        "id": "xeMje6Doj0PB",
        "colab_type": "code",
        "colab": {}
      },
      "source": [
        "def initialise(n):\n",
        "    board_input = []\n",
        "    for i in range(0, n):\n",
        "        temp =[]\n",
        "        for j in range(0,n):\n",
        "            temp.append('-')\n",
        "        board_input.append(temp)\n",
        "    return board_input"
      ],
      "execution_count": null,
      "outputs": []
    },
    {
      "cell_type": "code",
      "metadata": {
        "id": "6TJR9GJ5vR3A",
        "colab_type": "code",
        "colab": {
          "base_uri": "https://localhost:8080/",
          "height": 204
        },
        "outputId": "25dc45d4-94a7-4910-92ec-8253eea4b341"
      },
      "source": [
        "def n_queen(board,row,n):\n",
        "    flag = 1\n",
        "    # if (row >= n or row < 0):\n",
        "    #   return\n",
        "    if (row < n and 'Q' in board[row]):\n",
        "        index = board[row].index('Q')\n",
        "        board[row][index] = '-'\n",
        "        for i in range(index+1, n):\n",
        "            flag = check(board,row,i)\n",
        "            if (flag == 0):\n",
        "                board[row][i] = 'Q'\n",
        "                n_queen(board, row+1, n)\n",
        "                return\n",
        "        if (flag == 1 and row-1 >= 0):\n",
        "            n_queen(board, row-1, n) \n",
        "            return\n",
        "    for i in range(0,n):\n",
        "        flag = check(board,row,i)\n",
        "        if (flag == 0):\n",
        "            board[row][i] = 'Q'\n",
        "            if(row == n-1):\n",
        "                board_draw(board)\n",
        "                # print(\"\\n\")\n",
        "                # if(board[0].index('Q') < n-1 and row-1 >= 0):\n",
        "                #   n_queen(board, row-1,n) \n",
        "                return\n",
        "            n_queen(board, row+1, n)\n",
        "            break \n",
        "    if (flag == 1 and row-1 >= 0):\n",
        "        n_queen(board, row-1, n)\n",
        "        \n",
        "    \n",
        "board_input = []\n",
        "n=int(input(\"Enter value of n: \"))\n",
        "while(n<=3 or n>13):\n",
        "    print(\"\\nN should be greater than 3 and less than 14\")\n",
        "    n=int(input(\"\\nEnter value of n: \"))\n",
        "board_input = initialise(n)\n",
        "head = str(n) + '-Queen Solution is/are:\\n'\n",
        "print(head)\n",
        "n_queen(board_input, 0, n)"
      ],
      "execution_count": 31,
      "outputs": [
        {
          "output_type": "stream",
          "text": [
            "Enter value of n: 8\n",
            "8-Queen Solution is/are:\n",
            "\n",
            "Q - - - - - - -\n",
            "- - - - Q - - -\n",
            "- - - - - - - Q\n",
            "- - - - - Q - -\n",
            "- - Q - - - - -\n",
            "- - - - - - Q -\n",
            "- Q - - - - - -\n",
            "- - - Q - - - -\n"
          ],
          "name": "stdout"
        }
      ]
    }
  ]
}
